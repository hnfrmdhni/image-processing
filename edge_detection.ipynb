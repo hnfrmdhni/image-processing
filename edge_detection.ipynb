{
 "cells": [
  {
   "cell_type": "code",
   "execution_count": null,
   "metadata": {},
   "outputs": [],
   "source": [
    "import cv2\n",
    "import numpy as np\n",
    "import matplotlib.pyplot as plt\n",
    "\n",
    "# mengaktifkan OpenCL pada OpenCV\n",
    "cv2.ocl.setUseOpenCL(True)\n",
    "\n",
    "# menampilkan informasi OpenCL yang tersedia\n",
    "print(cv2.ocl.haveOpenCL())\n",
    "print(cv2.ocl.useOpenCL())\n",
    "\n",
    "# daftar nama file gambar yang akan diproses\n",
    "file_names = ['gambar1.jpg', 'gambar2.jpg', 'gambar3.jpg', 'gambar4.jpg', 'gambar5.jpg','gambar6.jpg', 'gambar7.jpg', 'gambar8.jpg', 'gambar9.jpg', 'gambar10.jpg']\n",
    "\n",
    "# edge detection dengan Sobel, Canny, dan Gaussian untuk setiap gambar\n",
    "for name in file_names:\n",
    "    # membaca gambar\n",
    "    file_path = f'resources/{name}'\n",
    "    img = cv2.imread(file_path)\n",
    "\n",
    "    # edge detection dengan Sobel\n",
    "    gray = cv2.cvtColor(img, cv2.COLOR_BGR2GRAY)\n",
    "    sobelx = cv2.Sobel(gray, cv2.CV_64F, 1, 0, ksize=5)\n",
    "    sobely = cv2.Sobel(gray, cv2.CV_64F, 0, 1, ksize=5)\n",
    "    sobel = cv2.addWeighted(sobelx, 0.5, sobely, 0.5, 0)\n",
    "\n",
    "    # edge detection dengan Canny\n",
    "    canny = cv2.Canny(gray, 100, 200)\n",
    "\n",
    "    # edge detection dengan Gaussian\n",
    "    blur = cv2.GaussianBlur(gray, (5,5), 0)\n",
    "    gaussian = cv2.Laplacian(blur, cv2.CV_64F)\n",
    "\n",
    "    # menampilkan hasil\n",
    "    fig, axs = plt.subplots(2, 2, figsize=(10,10))\n",
    "    axs[0, 0].imshow(cv2.cvtColor(img, cv2.COLOR_BGR2RGB))\n",
    "    axs[0, 0].set_title('Original')\n",
    "    axs[0, 1].imshow(sobel, cmap='gray')\n",
    "    axs[0, 1].set_title('Sobel')\n",
    "    axs[1, 0].imshow(canny, cmap='gray')\n",
    "    axs[1, 0].set_title('Canny')\n",
    "    axs[1, 1].imshow(gaussian, cmap='gray')\n",
    "    axs[1, 1].set_title('Gaussian')\n",
    "    plt.show()\n"
   ]
  }
 ],
 "metadata": {
  "kernelspec": {
   "display_name": "Python 3",
   "language": "python",
   "name": "python3"
  },
  "language_info": {
   "codemirror_mode": {
    "name": "ipython",
    "version": 3
   },
   "file_extension": ".py",
   "mimetype": "text/x-python",
   "name": "python",
   "nbconvert_exporter": "python",
   "pygments_lexer": "ipython3",
   "version": "3.11.0"
  },
  "orig_nbformat": 4,
  "vscode": {
   "interpreter": {
    "hash": "c261aea317cc0286b3b3261fbba9abdec21eaa57589985bb7a274bf54d6cc0a7"
   }
  }
 },
 "nbformat": 4,
 "nbformat_minor": 2
}
